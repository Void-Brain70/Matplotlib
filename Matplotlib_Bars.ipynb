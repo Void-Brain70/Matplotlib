{
  "nbformat": 4,
  "nbformat_minor": 0,
  "metadata": {
    "colab": {
      "name": "Matplotlib_Bars.ipynb",
      "provenance": [],
      "collapsed_sections": [],
      "authorship_tag": "ABX9TyMx7wr9G7wXqgP2s4aVCO8W",
      "include_colab_link": true
    },
    "kernelspec": {
      "name": "python3",
      "display_name": "Python 3"
    },
    "language_info": {
      "name": "python"
    }
  },
  "cells": [
    {
      "cell_type": "markdown",
      "metadata": {
        "id": "view-in-github",
        "colab_type": "text"
      },
      "source": [
        "<a href=\"https://colab.research.google.com/github/Void-Brain70/Matplotlib/blob/main/Matplotlib_Bars.ipynb\" target=\"_parent\"><img src=\"https://colab.research.google.com/assets/colab-badge.svg\" alt=\"Open In Colab\"/></a>"
      ]
    },
    {
      "cell_type": "markdown",
      "metadata": {
        "id": "cp8YveyK3MYE"
      },
      "source": [
        "Creating Bars"
      ]
    },
    {
      "cell_type": "code",
      "metadata": {
        "colab": {
          "base_uri": "https://localhost:8080/",
          "height": 265
        },
        "id": "8pkHuKha3Hoa",
        "outputId": "7652f142-c991-437b-d975-4c5b15fee2e2"
      },
      "source": [
        "# The bar() function to draw bar graphs\n",
        "# Draw 5 bars\n",
        "import matplotlib.pyplot as plt\n",
        "import numpy as np\n",
        "\n",
        "x = np.array([\"A\",\"B\",\"C\",\"D\",\"E\"])\n",
        "y = np.array([2,4,6,8,10])\n",
        "\n",
        "plt.bar(x,y)\n",
        "plt.show()"
      ],
      "execution_count": 1,
      "outputs": [
        {
          "output_type": "display_data",
          "data": {
            "image/png": "[encoded data removed]",
            "text/plain": [
              "<Figure size 432x288 with 1 Axes>"
            ]
          },
          "metadata": {
            "tags": [],
            "needs_background": "light"
          }
        }
      ]
    },
    {
      "cell_type": "code",
      "metadata": {
        "colab": {
          "base_uri": "https://localhost:8080/",
          "height": 265
        },
        "id": "pp62XFY5377K",
        "outputId": "9e03b3f1-f27b-46f6-9689-7af4f07f5b71"
      },
      "source": [
        "# Another way \n",
        "import matplotlib.pyplot as plt\n",
        "import numpy as np\n",
        "\n",
        "x = [\"A\",\"B\",\"C\",\"D\",\"E\"]\n",
        "y = [2,4,6,8,10]\n",
        "\n",
        "plt.bar(x,y)\n",
        "plt.show()"
      ],
      "execution_count": 2,
      "outputs": [
        {
          "output_type": "display_data",
          "data": {
            "image/png": "[encoded data removed]",
            "text/plain": [
              "<Figure size 432x288 with 1 Axes>"
            ]
          },
          "metadata": {
            "tags": [],
            "needs_background": "light"
          }
        }
      ]
    },
    {
      "cell_type": "code",
      "metadata": {
        "colab": {
          "base_uri": "https://localhost:8080/",
          "height": 265
        },
        "id": "pI5Jtuuk4Nvs",
        "outputId": "4e303cab-1db0-4ccc-ea27-68fb3e393473"
      },
      "source": [
        "# Horizontal Bars use the barh() function\n",
        "# Draw 5 horizontal bars\n",
        "import matplotlib.pyplot as plt\n",
        "import numpy as np\n",
        "\n",
        "x = np.array([\"A\",\"B\",\"C\",\"D\",\"E\"])\n",
        "y = np.array([2,4,6,8,10])\n",
        "\n",
        "plt.barh(x,y)\n",
        "plt.show()"
      ],
      "execution_count": 3,
      "outputs": [
        {
          "output_type": "display_data",
          "data": {
            "image/png": "[encoded data removed]",
            "text/plain": [
              "<Figure size 432x288 with 1 Axes>"
            ]
          },
          "metadata": {
            "tags": [],
            "needs_background": "light"
          }
        }
      ]
    },
    {
      "cell_type": "code",
      "metadata": {
        "colab": {
          "base_uri": "https://localhost:8080/",
          "height": 265
        },
        "id": "oMMs-Ydu4wRk",
        "outputId": "ededef42-fa17-41e0-fece-93839f6c8f04"
      },
      "source": [
        "# Bar Color\n",
        "# Draw 5 green bars\n",
        "import matplotlib.pyplot as plt\n",
        "import numpy as np\n",
        "\n",
        "x = np.array([\"A\",\"B\",\"C\",\"D\",\"E\"])\n",
        "y = np.array([2,4,6,8,10])\n",
        "\n",
        "# plt.bar(x,y,color=\"green\")\n",
        "# plt.bar(x, y, color = \"hotpink\")\n",
        "plt.bar(x, y, color = \"#4CAF50\")\n",
        "\n",
        "plt.show()"
      ],
      "execution_count": 6,
      "outputs": [
        {
          "output_type": "display_data",
          "data": {
            "image/png": "[encoded data removed]",
            "text/plain": [
              "<Figure size 432x288 with 1 Axes>"
            ]
          },
          "metadata": {
            "tags": [],
            "needs_background": "light"
          }
        }
      ]
    },
    {
      "cell_type": "code",
      "metadata": {
        "colab": {
          "base_uri": "https://localhost:8080/",
          "height": 265
        },
        "id": "ZAq2m81U5oPi",
        "outputId": "bc57c3ac-99ce-4cff-a30f-e057412e2de4"
      },
      "source": [
        "# Bar Width argument 'width'\n",
        "# Draw 5 very thin bars\n",
        "import matplotlib.pyplot as plt\n",
        "import numpy as np\n",
        "\n",
        "x = np.array([\"A\",\"B\",\"C\",\"D\",\"E\"])\n",
        "y = np.array([2,4,6,8,10])\n",
        "\n",
        "plt.bar(x,y,width=0.2)\n",
        "\n",
        "plt.show()"
      ],
      "execution_count": 7,
      "outputs": [
        {
          "output_type": "display_data",
          "data": {
            "image/png": "[encoded data removed]",
            "text/plain": [
              "<Figure size 432x288 with 1 Axes>"
            ]
          },
          "metadata": {
            "tags": [],
            "needs_background": "light"
          }
        }
      ]
    },
    {
      "cell_type": "code",
      "metadata": {
        "colab": {
          "base_uri": "https://localhost:8080/",
          "height": 265
        },
        "id": "Lp5wc3v15zkL",
        "outputId": "e4356d4e-70d1-45c0-9f6b-cbe8fe5e7498"
      },
      "source": [
        "# Bar Height argument 'height'\n",
        "# Draw 5 very thin bars\n",
        "import matplotlib.pyplot as plt\n",
        "import numpy as np\n",
        "\n",
        "x = np.array([\"A\",\"B\",\"C\",\"D\",\"E\"])\n",
        "y = np.array([2,4,6,8,10])\n",
        "\n",
        "plt.barh(x,y,height=0.2)\n",
        "\n",
        "plt.show()\n"
      ],
      "execution_count": 9,
      "outputs": [
        {
          "output_type": "display_data",
          "data": {
            "image/png": "[encoded data removed]",
            "text/plain": [
              "<Figure size 432x288 with 1 Axes>"
            ]
          },
          "metadata": {
            "tags": [],
            "needs_background": "light"
          }
        }
      ]
    }
  ]
}