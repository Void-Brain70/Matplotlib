{
  "nbformat": 4,
  "nbformat_minor": 0,
  "metadata": {
    "colab": {
      "name": "Matplotlib_Histograms.ipynb",
      "provenance": [],
      "collapsed_sections": [],
      "authorship_tag": "ABX9TyPwbtrVAauBEVLF0tNe5z2s",
      "include_colab_link": true
    },
    "kernelspec": {
      "name": "python3",
      "display_name": "Python 3"
    },
    "language_info": {
      "name": "python"
    }
  },
  "cells": [
    {
      "cell_type": "markdown",
      "metadata": {
        "id": "view-in-github",
        "colab_type": "text"
      },
      "source": [
        "<a href=\"https://colab.research.google.com/github/Void-Brain70/Matplotlib/blob/main/Matplotlib_Histograms.ipynb\" target=\"_parent\"><img src=\"https://colab.research.google.com/assets/colab-badge.svg\" alt=\"Open In Colab\"/></a>"
      ]
    },
    {
      "cell_type": "markdown",
      "metadata": {
        "id": "p8XDSSuc7Z0t"
      },
      "source": [
        "Histogram"
      ]
    },
    {
      "cell_type": "markdown",
      "metadata": {
        "id": "L10RItOD7gL0"
      },
      "source": [
        "A histogram is a graph showing frequency distributions."
      ]
    },
    {
      "cell_type": "code",
      "metadata": {
        "colab": {
          "base_uri": "https://localhost:8080/"
        },
        "id": "G_g7lWka7VbO",
        "outputId": "7095e29a-7c78-402d-ad08-f18c98afe144"
      },
      "source": [
        "# The hist() function to create histograms\n",
        "# A Normal Data Distribution by NumPy\n",
        "import numpy as np\n",
        "x = np.random.normal(170,10,250)\n",
        "print(x)"
      ],
      "execution_count": 1,
      "outputs": [
        {
          "output_type": "stream",
          "text": [
            "[176.64103897 177.35097864 163.63258384 185.34066968 172.82296523\n",
            " 186.07443102 170.08071138 154.62097785 161.30279688 166.19465278\n",
            " 176.31885659 161.63915404 180.34143556 173.92115993 167.16228686\n",
            " 176.30665216 163.84407627 185.45874131 182.74450474 155.86920308\n",
            " 175.58149509 173.41262583 159.09018021 164.81999569 173.86587454\n",
            " 172.35082804 167.11598928 172.46468088 155.48669527 148.8187347\n",
            " 157.43420335 165.41579861 161.45818299 170.39652415 172.89280754\n",
            " 154.00160318 163.15581202 186.53498273 184.81224091 172.30242796\n",
            " 191.15019042 179.0791802  175.46315653 167.659164   173.52135085\n",
            " 185.76638386 174.81391624 177.24210203 173.52138276 173.60005971\n",
            " 176.55084708 164.08855351 183.93476337 190.11671541 162.39050551\n",
            " 177.99472021 168.20745461 169.5525662  176.8316291  162.52362226\n",
            " 170.98846251 190.58669327 167.0341117  176.14935843 161.59921459\n",
            " 168.44904509 169.34246346 184.87683273 143.20956536 148.3166502\n",
            " 161.86763394 164.34243306 166.69543783 163.95536136 162.35837703\n",
            " 180.44029871 173.09768307 180.65961508 160.96083055 178.56018342\n",
            " 172.80703974 152.57602274 158.67722802 161.81444217 173.9197044\n",
            " 170.05959557 168.09644782 178.72806252 155.29332127 171.12199846\n",
            " 177.3667005  156.64859068 159.37234331 164.01136063 170.68190551\n",
            " 178.81730504 163.23687967 190.25760497 164.06516238 164.66377865\n",
            " 161.81873298 164.36743676 170.66747103 163.06525396 178.19880964\n",
            " 183.15855002 167.69516056 186.1209004  162.50472668 173.35038157\n",
            " 163.4430607  172.35579837 174.37075897 175.90414538 172.13880721\n",
            " 166.96587452 168.32817858 153.75607191 161.37092885 162.07816984\n",
            " 175.51925182 162.98545146 170.59104214 164.39891173 160.57527934\n",
            " 170.7891568  177.50650767 156.27601699 186.51418155 163.19562911\n",
            " 167.00036065 154.62435059 163.33944219 186.45552034 162.53830152\n",
            " 164.19820792 183.20687517 166.56012598 159.24374909 162.55260352\n",
            " 158.12805962 170.79847039 176.45569466 153.25532841 168.61295344\n",
            " 154.7153098  180.63307074 162.08384214 179.33364443 176.93100195\n",
            " 176.88720976 182.36863641 173.16010448 170.53610618 166.1847708\n",
            " 165.35588048 166.61808612 169.59128912 174.72943448 160.40687183\n",
            " 153.0750907  170.91773738 172.56111709 173.58099678 159.90555407\n",
            " 182.45117702 180.18000164 177.57934092 164.73417595 163.16668223\n",
            " 169.0384251  161.86374675 172.60972867 169.53690311 184.95825112\n",
            " 171.67133284 168.62398362 179.72916241 158.952814   187.78094137\n",
            " 172.76622188 155.75885902 178.48737988 160.23171705 166.80247085\n",
            " 162.94836551 166.53526727 180.49320082 177.7898236  180.61148243\n",
            " 162.06474899 175.68773085 158.42720918 170.31640304 178.30533993\n",
            " 187.37676945 169.8523506  178.53411753 152.65597302 176.80868218\n",
            " 171.84634918 168.80374399 163.54122171 148.30226023 163.35982766\n",
            " 182.93395295 157.19392729 173.14908575 168.40366278 185.22010495\n",
            " 164.09053463 180.18517037 178.8510949  164.35313734 184.75865136\n",
            " 155.23915222 174.59438514 178.85674392 167.43547241 183.41005674\n",
            " 159.58297397 174.49061663 172.65912126 165.69240964 163.7793441\n",
            " 144.636113   155.09644461 177.00820635 166.60341609 170.05626642\n",
            " 164.92979438 179.18345428 149.76616602 188.35924679 163.73763828\n",
            " 155.50346774 168.37756297 167.09026111 176.13793987 171.08499956\n",
            " 166.75977597 151.41820561 160.55384132 193.24343595 156.41104031\n",
            " 170.15629271 157.09567418 180.1580304  174.36788395 159.09377433]\n"
          ],
          "name": "stdout"
        }
      ]
    },
    {
      "cell_type": "code",
      "metadata": {
        "colab": {
          "base_uri": "https://localhost:8080/",
          "height": 268
        },
        "id": "JFf9xnHW8S_U",
        "outputId": "b51e1112-80c8-47d5-a4fc-e767d2af96ec"
      },
      "source": [
        "# A simple pie chart\n",
        "import matplotlib.pyplot as plt\n",
        "import numpy as np\n",
        "\n",
        "x = np.random.normal(170, 10, 250)\n",
        "\n",
        "plt.hist(x)\n",
        "\n",
        "plt.show()"
      ],
      "execution_count": 5,
      "outputs": [
        {
          "output_type": "display_data",
          "data": {
            "image/png": "[encoded data removed]",
            "text/plain": [
              "<Figure size 432x288 with 1 Axes>"
            ]
          },
          "metadata": {
            "tags": [],
            "needs_background": "light"
          }
        }
      ]
    }
  ]
}